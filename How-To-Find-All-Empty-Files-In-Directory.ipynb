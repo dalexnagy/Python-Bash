#!/bin/bash

# This is the folder/directory to be searched
search_path="$HOME"
# This is the folder/directory where the listing files are stored
output_path="$HOME/"
# This is the listing file name for the results
output_file_gross="EmptyFilesGross.txt"
# This is the listing file name for the results after editting
output_file_net="EmptyFilesNet.txt"
# This is the listing file name for the intermediate results during editting
output_file_work="EmptyFilesWork.txt"

# This is the array containing the strings to use when editting
# the gross (starting) list of empty files to remove lines where
# these strings appear
declare -a list=(
	'.mozilla' 
	'.PyCharm' 
	'.PlayOnLinux' 
	'site-packages' 
	'.local' 
	'.cache' 
	'python_stubs'
	'.cargo' 
	'.cpan' 
	'.config' 
	'.cxoffice' 
	'.default'
	'.var' 
	'.gconf' 
	'.thunderbird'
	'.cups' 
	'.java'
    )

echo "Starting search for empty files in '$search_path'"
find $search_path/ -type f -empty -exec echo {} \; >$output_path$output_file_gross

echo "Completed search for empty files - starting edit"
cp $output_path$output_file_gross $output_path$output_file_net 

for entry in "${list[@]}"
   do
   		edit_line="/$entry/d"
   		net_size=$(stat -c%s "$output_path$output_file_net")
     	cp $output_path$output_file_net $output_path$output_file_work 
     	sed $edit_line <$output_path$output_file_work >$output_path$output_file_net
   done

# Load array from input file
IFS=''
while read -r emptyfile
	do 
		emptyfiles+="FALSE|"
		emptyfiles+=$emptyfile"|"
	done < $output_path$output_file_net

#echo "${emptyfiles[@]}"
IFS='|'
delete_these_string=$(zenity --list \
	--width=800 --height=800 \
	--checklist \
	--title="Select Files to Delete" \
	--text="List of Empty Files" \
	--column="Select" \
	--column="Full File Name" \
	${emptyfiles[@]} ) 2>/dev/null
#
IFS='|' read -a delete_these <<< "${delete_these_string}"

echo "${#delete_these[@]} file(s) selected to be deleted"

for entry in "${delete_these[@]}"
	do
		rm $entry
		if [ "$?" = "0" ]; then
			echo "Deleted '$entry'"
		else
			echo "Failed to delete '$entry'"
		fi
   	done

echo "Deleting work files in this script"   	
rm $output_path$output_file_gross 
rm $output_path$output_file_net 
rm $output_path$output_file_work

echo "Script Completed"
